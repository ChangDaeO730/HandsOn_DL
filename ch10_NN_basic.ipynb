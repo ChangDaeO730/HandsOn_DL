{
 "cells": [
  {
   "cell_type": "code",
   "execution_count": 1,
   "metadata": {},
   "outputs": [],
   "source": [
    "import tensorflow as tf\n",
    "from tensorflow import keras"
   ]
  },
  {
   "cell_type": "code",
   "execution_count": 2,
   "metadata": {},
   "outputs": [],
   "source": [
    "# 사이킷런 ≥0.20 필요\n",
    "import sklearn\n",
    "# assert sklearn.__version__ >= \"0.20\"\n",
    "\n",
    "# 공통 모듈 임포트\n",
    "import numpy as np\n",
    "import os\n",
    "\n",
    "# 노트북 실행 결과를 동일하게 유지하기 위해\n",
    "np.random.seed(42)\n",
    "\n",
    "# 깔끔한 그래프 출력을 위해\n",
    "%matplotlib inline\n",
    "import matplotlib as mpl\n",
    "import matplotlib.pyplot as plt\n",
    "mpl.rc('axes', labelsize=14)\n",
    "mpl.rc('xtick', labelsize=12)\n",
    "mpl.rc('ytick', labelsize=12)\n",
    "\n",
    "# 그림을 저장할 위치\n",
    "PROJECT_ROOT_DIR = \".\"\n",
    "CHAPTER_ID = \"ann\"\n",
    "IMAGES_PATH = os.path.join(PROJECT_ROOT_DIR, \"images\", CHAPTER_ID)\n",
    "os.makedirs(IMAGES_PATH, exist_ok=True)\n",
    "\n",
    "def save_fig(fig_id, tight_layout=True, fig_extension=\"png\", resolution=300):\n",
    "    path = os.path.join(IMAGES_PATH, fig_id + \".\" + fig_extension)\n",
    "    print(\"그림 저장:\", fig_id)\n",
    "    if tight_layout:\n",
    "        plt.tight_layout()\n",
    "    plt.savefig(path, format=fig_extension, dpi=resolution)\n",
    "\n",
    "# 불필요한 경고를 무시 (사이파이 이슈 #5998 참조)\n",
    "import warnings\n",
    "warnings.filterwarnings(action=\"ignore\", message=\"^internal gelsd\")"
   ]
  },
  {
   "cell_type": "markdown",
   "metadata": {},
   "source": [
    "# DATA load"
   ]
  },
  {
   "cell_type": "code",
   "execution_count": 4,
   "metadata": {},
   "outputs": [
    {
     "name": "stdout",
     "output_type": "stream",
     "text": [
      "Downloading data from https://storage.googleapis.com/tensorflow/tf-keras-datasets/train-labels-idx1-ubyte.gz\n",
      "32768/29515 [=================================] - 0s 2us/step\n",
      "Downloading data from https://storage.googleapis.com/tensorflow/tf-keras-datasets/train-images-idx3-ubyte.gz\n",
      "26427392/26421880 [==============================] - 3s 0us/step\n",
      "Downloading data from https://storage.googleapis.com/tensorflow/tf-keras-datasets/t10k-labels-idx1-ubyte.gz\n",
      "8192/5148 [===============================================] - 0s 0us/step\n",
      "Downloading data from https://storage.googleapis.com/tensorflow/tf-keras-datasets/t10k-images-idx3-ubyte.gz\n",
      "4423680/4422102 [==============================] - 1s 0us/step\n"
     ]
    }
   ],
   "source": [
    "fashion_mnist = keras.datasets.fashion_mnist\n",
    "# train test split\n",
    "(X_train_full, y_train_full), (X_test, y_test) = fashion_mnist.load_data()"
   ]
  },
  {
   "cell_type": "code",
   "execution_count": 5,
   "metadata": {
    "scrolled": true
   },
   "outputs": [
    {
     "data": {
      "text/plain": [
       "(60000, 28, 28)"
      ]
     },
     "execution_count": 5,
     "metadata": {},
     "output_type": "execute_result"
    }
   ],
   "source": [
    "X_train_full.shape"
   ]
  },
  {
   "cell_type": "code",
   "execution_count": 8,
   "metadata": {},
   "outputs": [],
   "source": [
    "# train -> train / valid, scaling X\n",
    "X_valid, X_train = X_train_full[:5000] / 255.0, X_train_full[5000:] / 255.0\n",
    "y_valid, y_train = y_train_full[:5000], y_train_full[5000:]\n",
    "X_test = X_test / 255.0"
   ]
  },
  {
   "cell_type": "code",
   "execution_count": 10,
   "metadata": {},
   "outputs": [
    {
     "data": {
      "image/png": "[encoded data removed]",
      "text/plain": [
       "<Figure size 432x288 with 1 Axes>"
      ]
     },
     "metadata": {
      "needs_background": "light"
     },
     "output_type": "display_data"
    }
   ],
   "source": [
    "# data sample\n",
    "plt.imshow(X_train[0], cmap=\"binary\")\n",
    "plt.axis('off')\n",
    "plt.show()"
   ]
  },
  {
   "cell_type": "code",
   "execution_count": 12,
   "metadata": {},
   "outputs": [
    {
     "data": {
      "text/plain": [
       "array([4, 0, 7, ..., 3, 0, 5], dtype=uint8)"
      ]
     },
     "execution_count": 12,
     "metadata": {},
     "output_type": "execute_result"
    }
   ],
   "source": [
    "# clothes type - label\n",
    "y_train"
   ]
  },
  {
   "cell_type": "code",
   "execution_count": 11,
   "metadata": {},
   "outputs": [],
   "source": [
    "# label에 대응되는 실제 패션아이템 종류 명\n",
    "class_names = [\"T-shirt/top\", \"Trouser\", \"Pullover\", \"Dress\", \"Coat\",\n",
    "               \"Sandal\", \"Shirt\", \"Sneaker\", \"Bag\", \"Ankle boot\"]"
   ]
  },
  {
   "cell_type": "code",
   "execution_count": 14,
   "metadata": {},
   "outputs": [
    {
     "data": {
      "text/plain": [
       "'Coat'"
      ]
     },
     "execution_count": 14,
     "metadata": {},
     "output_type": "execute_result"
    }
   ],
   "source": [
    "class_names[y_train[0]]"
   ]
  },
  {
   "cell_type": "markdown",
   "metadata": {},
   "source": [
    "# Model building"
   ]
  },
  {
   "cell_type": "markdown",
   "metadata": {},
   "source": [
    "### Sequential API"
   ]
  },
  {
   "cell_type": "code",
   "execution_count": 20,
   "metadata": {},
   "outputs": [],
   "source": [
    "model = keras.models.Sequential()\n",
    "model.add(keras.layers.Flatten(input_shape = [28,28]))\n",
    "model.add(keras.layers.Dense(300, activation = 'relu'))\n",
    "model.add(keras.layers.Dense(100, activation = 'relu'))\n",
    "model.add(keras.layers.Dense(10, activation = 'softmax'))"
   ]
  },
  {
   "cell_type": "code",
   "execution_count": null,
   "metadata": {},
   "outputs": [],
   "source": [
    "# 위와 동일한 모델\n",
    "model = keras.models.Sequential([\n",
    "    keras.layers.Flatten(input_shape=[28,28]),\n",
    "    keras.layers.Dense(300, activation = 'relu'),\n",
    "    keras.layers.Dense(100, activation = 'relu'),\n",
    "    keras.layers.Dense(10, activation = 'softmax')\n",
    "])"
   ]
  },
  {
   "cell_type": "code",
   "execution_count": 3,
   "metadata": {},
   "outputs": [],
   "source": [
    "# 표기법을 더 간단히 하기 위해 아래와 같이 layers와 Dense를 직접 import 할 수 있음.\n",
    "from tensorflow.keras import layers\n",
    "from tensorflow.keras.layers import Dense\n",
    "\n",
    "layers.Dense(10)\n",
    "Dense(10, activation = \"relu\")"
   ]
  },
  {
   "cell_type": "code",
   "execution_count": 25,
   "metadata": {
    "collapsed": true
   },
   "outputs": [
    {
     "name": "stdout",
     "output_type": "stream",
     "text": [
      "Model: \"sequential\"\n",
      "_________________________________________________________________\n",
      "Layer (type)                 Output Shape              Param #   \n",
      "=================================================================\n",
      "flatten (Flatten)            (None, 784)               0         \n",
      "_________________________________________________________________\n",
      "dense (Dense)                (None, 300)               235500    \n",
      "_________________________________________________________________\n",
      "dense_1 (Dense)              (None, 100)               30100     \n",
      "_________________________________________________________________\n",
      "dense_2 (Dense)              (None, 10)                1010      \n",
      "=================================================================\n",
      "Total params: 266,610\n",
      "Trainable params: 266,610\n",
      "Non-trainable params: 0\n",
      "_________________________________________________________________\n"
     ]
    }
   ],
   "source": [
    "model.summary()"
   ]
  },
  {
   "cell_type": "code",
   "execution_count": 26,
   "metadata": {
    "collapsed": true
   },
   "outputs": [
    {
     "data": {
      "text/plain": [
       "[<tensorflow.python.keras.layers.core.Flatten at 0x1d4c167c3c8>,\n",
       " <tensorflow.python.keras.layers.core.Dense at 0x1d4c1681388>,\n",
       " <tensorflow.python.keras.layers.core.Dense at 0x1d4c12b4108>,\n",
       " <tensorflow.python.keras.layers.core.Dense at 0x1d4c1714988>]"
      ]
     },
     "execution_count": 26,
     "metadata": {},
     "output_type": "execute_result"
    }
   ],
   "source": [
    "model.layers"
   ]
  },
  {
   "cell_type": "code",
   "execution_count": 32,
   "metadata": {},
   "outputs": [],
   "source": [
    "hidden1 = model.layers[1]"
   ]
  },
  {
   "cell_type": "code",
   "execution_count": 33,
   "metadata": {},
   "outputs": [
    {
     "data": {
      "text/plain": [
       "'dense'"
      ]
     },
     "execution_count": 33,
     "metadata": {},
     "output_type": "execute_result"
    }
   ],
   "source": [
    "hidden1.name"
   ]
  },
  {
   "cell_type": "code",
   "execution_count": 35,
   "metadata": {},
   "outputs": [
    {
     "name": "stdout",
     "output_type": "stream",
     "text": [
      "[[ 0.06948689 -0.07100198 -0.06578416 ... -0.05291844 -0.0524224\n",
      "   0.01911979]\n",
      " [-0.00975551  0.00231802 -0.07024105 ... -0.06990121 -0.04690202\n",
      "  -0.0021707 ]\n",
      " [ 0.05113547  0.02871118  0.03932127 ...  0.07339554  0.06695357\n",
      "   0.05103433]\n",
      " ...\n",
      " [-0.02991271 -0.06533417  0.03232732 ...  0.01497146 -0.01946389\n",
      "  -0.05498444]\n",
      " [ 0.00676036 -0.02124686 -0.00865311 ... -0.0533006  -0.00203201\n",
      "  -0.06288942]\n",
      " [ 0.00173607  0.05808847  0.06725639 ... -0.06039989 -0.05915727\n",
      "   0.01582919]]\n",
      "[0. 0. 0. 0. 0. 0. 0. 0. 0. 0. 0. 0. 0. 0. 0. 0. 0. 0. 0. 0. 0. 0. 0. 0.\n",
      " 0. 0. 0. 0. 0. 0. 0. 0. 0. 0. 0. 0. 0. 0. 0. 0. 0. 0. 0. 0. 0. 0. 0. 0.\n",
      " 0. 0. 0. 0. 0. 0. 0. 0. 0. 0. 0. 0. 0. 0. 0. 0. 0. 0. 0. 0. 0. 0. 0. 0.\n",
      " 0. 0. 0. 0. 0. 0. 0. 0. 0. 0. 0. 0. 0. 0. 0. 0. 0. 0. 0. 0. 0. 0. 0. 0.\n",
      " 0. 0. 0. 0. 0. 0. 0. 0. 0. 0. 0. 0. 0. 0. 0. 0. 0. 0. 0. 0. 0. 0. 0. 0.\n",
      " 0. 0. 0. 0. 0. 0. 0. 0. 0. 0. 0. 0. 0. 0. 0. 0. 0. 0. 0. 0. 0. 0. 0. 0.\n",
      " 0. 0. 0. 0. 0. 0. 0. 0. 0. 0. 0. 0. 0. 0. 0. 0. 0. 0. 0. 0. 0. 0. 0. 0.\n",
      " 0. 0. 0. 0. 0. 0. 0. 0. 0. 0. 0. 0. 0. 0. 0. 0. 0. 0. 0. 0. 0. 0. 0. 0.\n",
      " 0. 0. 0. 0. 0. 0. 0. 0. 0. 0. 0. 0. 0. 0. 0. 0. 0. 0. 0. 0. 0. 0. 0. 0.\n",
      " 0. 0. 0. 0. 0. 0. 0. 0. 0. 0. 0. 0. 0. 0. 0. 0. 0. 0. 0. 0. 0. 0. 0. 0.\n",
      " 0. 0. 0. 0. 0. 0. 0. 0. 0. 0. 0. 0. 0. 0. 0. 0. 0. 0. 0. 0. 0. 0. 0. 0.\n",
      " 0. 0. 0. 0. 0. 0. 0. 0. 0. 0. 0. 0. 0. 0. 0. 0. 0. 0. 0. 0. 0. 0. 0. 0.\n",
      " 0. 0. 0. 0. 0. 0. 0. 0. 0. 0. 0. 0.]\n",
      "(784, 300)\n",
      "(300,)\n"
     ]
    }
   ],
   "source": [
    "# layer 별로 가중치 확인 가능\n",
    "\n",
    "weights, biases = hidden1.get_weights()\n",
    "print(weights)\n",
    "print(biases)\n",
    "print(weights.shape)\n",
    "print(biases.shape)"
   ]
  },
  {
   "cell_type": "code",
   "execution_count": 36,
   "metadata": {},
   "outputs": [],
   "source": [
    "# 모델 구성 완료후에는 loss와 optimizer를 정의하고 compile 해야함\n",
    "\n",
    "model.compile(loss = \"sparse_categorical_crossentropy\",\n",
    "             optimizer = \"sgd\",\n",
    "            # optimizer = keras.optimizers.SGD(learning_rate = ***) \n",
    "             metrics = [\"accuracy\"])"
   ]
  },
  {
   "cell_type": "code",
   "execution_count": 37,
   "metadata": {
    "scrolled": true
   },
   "outputs": [
    {
     "name": "stdout",
     "output_type": "stream",
     "text": [
      "Train on 55000 samples, validate on 5000 samples\n",
      "Epoch 1/30\n",
      "55000/55000 [==============================] - 4s 64us/sample - loss: 0.7184 - accuracy: 0.7671 - val_loss: 0.5002 - val_accuracy: 0.8352\n",
      "Epoch 2/30\n",
      "55000/55000 [==============================] - 3s 53us/sample - loss: 0.4876 - accuracy: 0.8299 - val_loss: 0.4381 - val_accuracy: 0.8516\n",
      "Epoch 3/30\n",
      "55000/55000 [==============================] - 3s 53us/sample - loss: 0.4460 - accuracy: 0.8444 - val_loss: 0.4404 - val_accuracy: 0.8416\n",
      "Epoch 4/30\n",
      "55000/55000 [==============================] - 3s 52us/sample - loss: 0.4185 - accuracy: 0.8532 - val_loss: 0.4091 - val_accuracy: 0.8596\n",
      "Epoch 5/30\n",
      "55000/55000 [==============================] - 3s 54us/sample - loss: 0.3981 - accuracy: 0.8607 - val_loss: 0.3932 - val_accuracy: 0.8670\n",
      "Epoch 6/30\n",
      "55000/55000 [==============================] - 3s 54us/sample - loss: 0.3817 - accuracy: 0.8662 - val_loss: 0.3908 - val_accuracy: 0.8644\n",
      "Epoch 7/30\n",
      "55000/55000 [==============================] - 3s 58us/sample - loss: 0.3673 - accuracy: 0.8707 - val_loss: 0.3610 - val_accuracy: 0.8754\n",
      "Epoch 8/30\n",
      "55000/55000 [==============================] - 3s 61us/sample - loss: 0.3559 - accuracy: 0.8742 - val_loss: 0.4001 - val_accuracy: 0.8554\n",
      "Epoch 9/30\n",
      "55000/55000 [==============================] - 3s 61us/sample - loss: 0.3453 - accuracy: 0.8763 - val_loss: 0.3420 - val_accuracy: 0.8784\n",
      "Epoch 10/30\n",
      "55000/55000 [==============================] - 4s 65us/sample - loss: 0.3355 - accuracy: 0.8800 - val_loss: 0.3367 - val_accuracy: 0.8766\n",
      "Epoch 11/30\n",
      "55000/55000 [==============================] - 3s 59us/sample - loss: 0.3266 - accuracy: 0.8831 - val_loss: 0.3343 - val_accuracy: 0.8786\n",
      "Epoch 12/30\n",
      "55000/55000 [==============================] - 3s 62us/sample - loss: 0.3184 - accuracy: 0.8854 - val_loss: 0.3269 - val_accuracy: 0.8822\n",
      "Epoch 13/30\n",
      "55000/55000 [==============================] - 4s 69us/sample - loss: 0.3118 - accuracy: 0.8871 - val_loss: 0.3247 - val_accuracy: 0.8822\n",
      "Epoch 14/30\n",
      "55000/55000 [==============================] - 4s 72us/sample - loss: 0.3046 - accuracy: 0.8902 - val_loss: 0.3473 - val_accuracy: 0.8698\n",
      "Epoch 15/30\n",
      "55000/55000 [==============================] - 4s 66us/sample - loss: 0.2986 - accuracy: 0.8928 - val_loss: 0.3370 - val_accuracy: 0.8782\n",
      "Epoch 16/30\n",
      "55000/55000 [==============================] - 4s 66us/sample - loss: 0.2916 - accuracy: 0.8949 - val_loss: 0.3263 - val_accuracy: 0.8806\n",
      "Epoch 17/30\n",
      "55000/55000 [==============================] - 3s 63us/sample - loss: 0.2847 - accuracy: 0.8964 - val_loss: 0.3182 - val_accuracy: 0.8838\n",
      "Epoch 18/30\n",
      "55000/55000 [==============================] - 4s 64us/sample - loss: 0.2804 - accuracy: 0.8975 - val_loss: 0.3211 - val_accuracy: 0.8830\n",
      "Epoch 19/30\n",
      "55000/55000 [==============================] - 4s 67us/sample - loss: 0.2753 - accuracy: 0.9002 - val_loss: 0.3079 - val_accuracy: 0.8878\n",
      "Epoch 20/30\n",
      "55000/55000 [==============================] - 4s 66us/sample - loss: 0.2697 - accuracy: 0.9018 - val_loss: 0.3212 - val_accuracy: 0.8840\n",
      "Epoch 21/30\n",
      "55000/55000 [==============================] - 3s 63us/sample - loss: 0.2642 - accuracy: 0.9052 - val_loss: 0.3077 - val_accuracy: 0.8842\n",
      "Epoch 22/30\n",
      "55000/55000 [==============================] - 4s 64us/sample - loss: 0.2609 - accuracy: 0.9057 - val_loss: 0.3019 - val_accuracy: 0.8910\n",
      "Epoch 23/30\n",
      "55000/55000 [==============================] - 3s 63us/sample - loss: 0.2559 - accuracy: 0.9064 - val_loss: 0.3013 - val_accuracy: 0.8888\n",
      "Epoch 24/30\n",
      "55000/55000 [==============================] - 3s 63us/sample - loss: 0.2510 - accuracy: 0.9092 - val_loss: 0.2988 - val_accuracy: 0.8892\n",
      "Epoch 25/30\n",
      "55000/55000 [==============================] - 4s 64us/sample - loss: 0.2465 - accuracy: 0.9094 - val_loss: 0.2941 - val_accuracy: 0.8920\n",
      "Epoch 26/30\n",
      "55000/55000 [==============================] - 3s 64us/sample - loss: 0.2432 - accuracy: 0.9125 - val_loss: 0.3047 - val_accuracy: 0.8916\n",
      "Epoch 27/30\n",
      "55000/55000 [==============================] - 4s 65us/sample - loss: 0.2383 - accuracy: 0.9145 - val_loss: 0.3075 - val_accuracy: 0.8910\n",
      "Epoch 28/30\n",
      "55000/55000 [==============================] - 4s 66us/sample - loss: 0.2353 - accuracy: 0.9152 - val_loss: 0.3156 - val_accuracy: 0.8836\n",
      "Epoch 29/30\n",
      "55000/55000 [==============================] - 3s 63us/sample - loss: 0.2297 - accuracy: 0.9165 - val_loss: 0.3130 - val_accuracy: 0.8856\n",
      "Epoch 30/30\n",
      "55000/55000 [==============================] - 4s 65us/sample - loss: 0.2262 - accuracy: 0.9184 - val_loss: 0.3050 - val_accuracy: 0.8890\n"
     ]
    }
   ],
   "source": [
    "## model fitting\n",
    "# fit 메서드의 결과로 history라는 사전이 반환됨\n",
    "\n",
    "history = model.fit(X_train, y_train, epochs = 30,\n",
    "                   validation_data = (X_valid, y_valid) # or validation_split = 0.*)"
   ]
  },
  {
   "cell_type": "code",
   "execution_count": 39,
   "metadata": {
    "collapsed": true
   },
   "outputs": [
    {
     "data": {
      "text/plain": [
       "{'loss': [0.7184195636619221,\n",
       "  0.4875795672633431,\n",
       "  0.44597612406990744,\n",
       "  0.41850424725792623,\n",
       "  0.39805027519139374,\n",
       "  0.3816612699942155,\n",
       "  0.367346105631915,\n",
       "  0.3558887342453003,\n",
       "  0.3453217774261128,\n",
       "  0.33550714169415563,\n",
       "  0.32659341638521716,\n",
       "  0.31836310350244695,\n",
       "  0.3117792192925106,\n",
       "  0.3045701993335377,\n",
       "  0.29855753910758276,\n",
       "  0.29161236288981,\n",
       "  0.28474888961315153,\n",
       "  0.280355303625627,\n",
       "  0.27534914102337577,\n",
       "  0.269727768666094,\n",
       "  0.2642338270642541,\n",
       "  0.2609371556715532,\n",
       "  0.2559105119022456,\n",
       "  0.2509750061219389,\n",
       "  0.24648929111632434,\n",
       "  0.2431863757133484,\n",
       "  0.23834532617438922,\n",
       "  0.23525945351557298,\n",
       "  0.22971290050094778,\n",
       "  0.2261997926701199],\n",
       " 'accuracy': [0.7671091,\n",
       "  0.8298909,\n",
       "  0.8444,\n",
       "  0.8532182,\n",
       "  0.8606727,\n",
       "  0.8662,\n",
       "  0.8707273,\n",
       "  0.8742,\n",
       "  0.8763273,\n",
       "  0.87996364,\n",
       "  0.8831273,\n",
       "  0.8854182,\n",
       "  0.8871091,\n",
       "  0.8902,\n",
       "  0.8927636,\n",
       "  0.8948727,\n",
       "  0.8964,\n",
       "  0.89754546,\n",
       "  0.9002,\n",
       "  0.90181816,\n",
       "  0.90516365,\n",
       "  0.9057091,\n",
       "  0.9064364,\n",
       "  0.9092364,\n",
       "  0.9093818,\n",
       "  0.91245455,\n",
       "  0.9144545,\n",
       "  0.9152,\n",
       "  0.91654545,\n",
       "  0.91836363],\n",
       " 'val_loss': [0.5002166997432709,\n",
       "  0.43812825837135316,\n",
       "  0.4403508682012558,\n",
       "  0.4090588968753815,\n",
       "  0.3932030673027039,\n",
       "  0.390772066950798,\n",
       "  0.3609618429541588,\n",
       "  0.40008072460889815,\n",
       "  0.34200779787302016,\n",
       "  0.3367443738818169,\n",
       "  0.3343051294982433,\n",
       "  0.3268756592988968,\n",
       "  0.32466289774775503,\n",
       "  0.3473379185914993,\n",
       "  0.33699259099960327,\n",
       "  0.3262652354836464,\n",
       "  0.3182201672852039,\n",
       "  0.3210519392251968,\n",
       "  0.3078768800497055,\n",
       "  0.3211793886393309,\n",
       "  0.3077114548027515,\n",
       "  0.301931496244669,\n",
       "  0.3012516792088747,\n",
       "  0.2987765396565199,\n",
       "  0.2941385982215404,\n",
       "  0.30469740175902843,\n",
       "  0.30748919094800947,\n",
       "  0.3155966248035431,\n",
       "  0.31304072421491147,\n",
       "  0.30502062325775625],\n",
       " 'val_accuracy': [0.8352,\n",
       "  0.8516,\n",
       "  0.8416,\n",
       "  0.8596,\n",
       "  0.867,\n",
       "  0.8644,\n",
       "  0.8754,\n",
       "  0.8554,\n",
       "  0.8784,\n",
       "  0.8766,\n",
       "  0.8786,\n",
       "  0.8822,\n",
       "  0.8822,\n",
       "  0.8698,\n",
       "  0.8782,\n",
       "  0.8806,\n",
       "  0.8838,\n",
       "  0.883,\n",
       "  0.8878,\n",
       "  0.884,\n",
       "  0.8842,\n",
       "  0.891,\n",
       "  0.8888,\n",
       "  0.8892,\n",
       "  0.892,\n",
       "  0.8916,\n",
       "  0.891,\n",
       "  0.8836,\n",
       "  0.8856,\n",
       "  0.889]}"
      ]
     },
     "execution_count": 39,
     "metadata": {},
     "output_type": "execute_result"
    }
   ],
   "source": [
    "# history에는 훈련과정의 epoch마다 loss, 측도값들이 기록됨\n",
    "history.history"
   ]
  },
  {
   "cell_type": "code",
   "execution_count": 41,
   "metadata": {},
   "outputs": [
    {
     "data": {
      "text/plain": [
       "{'batch_size': 32,\n",
       " 'epochs': 30,\n",
       " 'steps': 1719,\n",
       " 'samples': 55000,\n",
       " 'verbose': 0,\n",
       " 'do_validation': True,\n",
       " 'metrics': ['loss', 'accuracy', 'val_loss', 'val_accuracy']}"
      ]
     },
     "execution_count": 41,
     "metadata": {},
     "output_type": "execute_result"
    }
   ],
   "source": [
    "history.params"
   ]
  },
  {
   "cell_type": "code",
   "execution_count": 3,
   "metadata": {},
   "outputs": [],
   "source": [
    "import pandas as pd"
   ]
  },
  {
   "cell_type": "code",
   "execution_count": 38,
   "metadata": {
    "scrolled": true
   },
   "outputs": [
    {
     "data": {
      "image/png": "[encoded data removed]",
      "text/plain": [
       "<Figure size 1080x576 with 1 Axes>"
      ]
     },
     "metadata": {
      "needs_background": "light"
     },
     "output_type": "display_data"
    }
   ],
   "source": [
    "# learing curve (학습곡선)\n",
    "# import pandas as pd\n",
    "\n",
    "pd.DataFrame(history.history).plot(figsize = (15, 8))\n",
    "plt.grid(True)\n",
    "plt.gca().set_ylim(0, 1)\n",
    "plt.show()"
   ]
  },
  {
   "cell_type": "code",
   "execution_count": 42,
   "metadata": {},
   "outputs": [
    {
     "name": "stdout",
     "output_type": "stream",
     "text": [
      "10000/10000 [==============================] - 0s 29us/sample - loss: 0.3449 - accuracy: 0.8762\n"
     ]
    },
    {
     "data": {
      "text/plain": [
       "[0.34491419517993926, 0.8762]"
      ]
     },
     "execution_count": 42,
     "metadata": {},
     "output_type": "execute_result"
    }
   ],
   "source": [
    "# model evaluation\n",
    "model.evaluate(X_test, y_test)"
   ]
  },
  {
   "cell_type": "code",
   "execution_count": 43,
   "metadata": {},
   "outputs": [
    {
     "data": {
      "text/plain": [
       "array([[0.  , 0.  , 0.  , 0.  , 0.  , 0.01, 0.  , 0.02, 0.  , 0.97],\n",
       "       [0.  , 0.  , 1.  , 0.  , 0.  , 0.  , 0.  , 0.  , 0.  , 0.  ],\n",
       "       [0.  , 1.  , 0.  , 0.  , 0.  , 0.  , 0.  , 0.  , 0.  , 0.  ]],\n",
       "      dtype=float32)"
      ]
     },
     "execution_count": 43,
     "metadata": {},
     "output_type": "execute_result"
    }
   ],
   "source": [
    "X_new = X_test[:3]\n",
    "y_proba = model.predict(X_new)\n",
    "y_proba.round(2)"
   ]
  },
  {
   "cell_type": "code",
   "execution_count": 44,
   "metadata": {},
   "outputs": [
    {
     "name": "stdout",
     "output_type": "stream",
     "text": [
      "[9 2 1]\n",
      "['Ankle boot' 'Pullover' 'Trouser']\n"
     ]
    }
   ],
   "source": [
    "y_pred = model.predict_classes(X_new)\n",
    "print(y_pred)\n",
    "print(np.array(class_names)[y_pred])"
   ]
  },
  {
   "cell_type": "markdown",
   "metadata": {},
   "source": [
    "### MLP for Regression\n",
    "###   \n",
    "- 회귀를 위한 다중퍼셉트론"
   ]
  },
  {
   "cell_type": "code",
   "execution_count": 4,
   "metadata": {},
   "outputs": [],
   "source": [
    "from sklearn.datasets import fetch_california_housing\n",
    "from sklearn.model_selection import train_test_split\n",
    "from sklearn.preprocessing import StandardScaler\n",
    "\n",
    "housing = fetch_california_housing()\n",
    "\n",
    "X_train_full, X_test, y_train_full, y_test = train_test_split(\n",
    "    housing.data, housing.target)\n",
    "X_train, X_valid, y_train, y_valid = train_test_split(\n",
    "    X_train_full, y_train_full)\n",
    "\n",
    "scaler = StandardScaler()\n",
    "X_train = scaler.fit_transform(X_train)\n",
    "X_valid = scaler.transform(X_valid)\n",
    "X_test = scaler.transform(X_test)"
   ]
  },
  {
   "cell_type": "code",
   "execution_count": 54,
   "metadata": {
    "collapsed": true
   },
   "outputs": [
    {
     "name": "stdout",
     "output_type": "stream",
     "text": [
      "Train on 11610 samples, validate on 3870 samples\n",
      "Epoch 1/20\n",
      "11610/11610 [==============================] - 1s 51us/sample - loss: 0.8250 - val_loss: 0.6051\n",
      "Epoch 2/20\n",
      "11610/11610 [==============================] - 0s 37us/sample - loss: 0.5370 - val_loss: 1.1219\n",
      "Epoch 3/20\n",
      "11610/11610 [==============================] - 0s 36us/sample - loss: 0.5664 - val_loss: 0.4913\n",
      "Epoch 4/20\n",
      "11610/11610 [==============================] - 0s 34us/sample - loss: 0.4539 - val_loss: 0.4662\n",
      "Epoch 5/20\n",
      "11610/11610 [==============================] - 0s 31us/sample - loss: 0.4400 - val_loss: 0.4625\n",
      "Epoch 6/20\n",
      "11610/11610 [==============================] - 0s 30us/sample - loss: 0.4305 - val_loss: 0.4526\n",
      "Epoch 7/20\n",
      "11610/11610 [==============================] - 0s 31us/sample - loss: 0.4216 - val_loss: 0.4448\n",
      "Epoch 8/20\n",
      "11610/11610 [==============================] - 0s 31us/sample - loss: 0.4155 - val_loss: 0.4357\n",
      "Epoch 9/20\n",
      "11610/11610 [==============================] - 0s 42us/sample - loss: 0.4077 - val_loss: 0.4318\n",
      "Epoch 10/20\n",
      "11610/11610 [==============================] - 0s 29us/sample - loss: 0.4033 - val_loss: 0.4318\n",
      "Epoch 11/20\n",
      "11610/11610 [==============================] - 0s 33us/sample - loss: 0.3973 - val_loss: 0.4291\n",
      "Epoch 12/20\n",
      "11610/11610 [==============================] - 0s 30us/sample - loss: 0.3928 - val_loss: 0.4172\n",
      "Epoch 13/20\n",
      "11610/11610 [==============================] - 0s 30us/sample - loss: 0.3873 - val_loss: 0.4142\n",
      "Epoch 14/20\n",
      "11610/11610 [==============================] - 0s 30us/sample - loss: 0.3872 - val_loss: 0.4213\n",
      "Epoch 15/20\n",
      "11610/11610 [==============================] - 0s 30us/sample - loss: 0.3838 - val_loss: 0.4099\n",
      "Epoch 16/20\n",
      "11610/11610 [==============================] - 0s 29us/sample - loss: 0.3840 - val_loss: 0.4106\n",
      "Epoch 17/20\n",
      "11610/11610 [==============================] - 0s 34us/sample - loss: 0.3783 - val_loss: 0.4060\n",
      "Epoch 18/20\n",
      "11610/11610 [==============================] - 0s 30us/sample - loss: 0.3756 - val_loss: 0.4074\n",
      "Epoch 19/20\n",
      "11610/11610 [==============================] - 0s 30us/sample - loss: 0.3745 - val_loss: 0.4071\n",
      "Epoch 20/20\n",
      "11610/11610 [==============================] - 0s 30us/sample - loss: 0.3733 - val_loss: 0.4021\n",
      "5160/5160 [==============================] - 0s 18us/sample - loss: 0.3773\n"
     ]
    }
   ],
   "source": [
    "model = keras.models.Sequential([\n",
    "    keras.layers.Dense(30, activation = 'relu', input_shape = X_train.shape[1:]),\n",
    "    keras.layers.Dense(1)\n",
    "])\n",
    "model.compile(loss = \"mean_squared_error\", optimizer = \"sgd\")\n",
    "\n",
    "history = model.fit(X_train, y_train, epochs = 20,\n",
    "                    validation_data = (X_valid, y_valid))\n",
    "mse_test = model.evaluate(X_test, y_test)\n",
    "\n",
    "X_new = X_test[:3] # 새로 얻어진 데이터라고 가정\n",
    "y_pred = model.predict(X_new)"
   ]
  },
  {
   "cell_type": "markdown",
   "metadata": {},
   "source": [
    "### functional API\n",
    "###   \n",
    "시퀀셜 api가 사용이 간편하나, 더욱 자유로운 모델 구조가 필요한 경우\n",
    "함수형 api를 사용할 수 있다."
   ]
  },
  {
   "cell_type": "code",
   "execution_count": 62,
   "metadata": {},
   "outputs": [],
   "source": [
    "input_ = keras.layers.Input(shape = X_train.shape[1:])\n",
    "hidden1 = keras.layers.Dense(30, activation = \"relu\")(input_)\n",
    "hidden2 = keras.layers.Dense(30, activation = \"relu\")(hidden1)\n",
    "concat = keras.layers.Concatenate()([input_, hidden2])\n",
    "output = keras.layers.Dense(1)(concat)\n",
    "model = keras.Model(inputs = [input_], outputs = [output])"
   ]
  },
  {
   "cell_type": "code",
   "execution_count": 64,
   "metadata": {},
   "outputs": [],
   "source": [
    "# Wide & Deep NN\n",
    "input_A = keras.layers.Input(shape = [5], name = \"wide_input\")\n",
    "input_B = keras.layers.Input(shape = [6], name = \"deep_input\")\n",
    "hidden1 = keras.layers.Dense(30, activation = \"relu\")(input_B)\n",
    "hidden2 = keras.layers.Dense(30, activation = \"relu\")(hidden1)\n",
    "concat = keras.layers.concatenate([input_A, hidden2])\n",
    "output = keras.layers.Dense(1, name = \"output\")(concat)\n",
    "model = keras.Model(inputs = [input_A, input_B], outputs = [output])"
   ]
  },
  {
   "cell_type": "code",
   "execution_count": 65,
   "metadata": {
    "collapsed": true
   },
   "outputs": [
    {
     "name": "stdout",
     "output_type": "stream",
     "text": [
      "Train on 11610 samples, validate on 3870 samples\n",
      "Epoch 1/20\n",
      "11610/11610 [==============================] - 1s 58us/sample - loss: 2.4024 - val_loss: 1.0875\n",
      "Epoch 2/20\n",
      "11610/11610 [==============================] - 0s 38us/sample - loss: 0.8885 - val_loss: 0.7889\n",
      "Epoch 3/20\n",
      "11610/11610 [==============================] - 0s 38us/sample - loss: 0.7504 - val_loss: 0.7186\n",
      "Epoch 4/20\n",
      "11610/11610 [==============================] - 0s 34us/sample - loss: 0.6924 - val_loss: 0.6761\n",
      "Epoch 5/20\n",
      "11610/11610 [==============================] - 0s 33us/sample - loss: 0.6527 - val_loss: 0.6445\n",
      "Epoch 6/20\n",
      "11610/11610 [==============================] - 0s 34us/sample - loss: 0.6218 - val_loss: 0.6191\n",
      "Epoch 7/20\n",
      "11610/11610 [==============================] - 0s 35us/sample - loss: 0.5958 - val_loss: 0.5980\n",
      "Epoch 8/20\n",
      "11610/11610 [==============================] - 0s 34us/sample - loss: 0.5755 - val_loss: 0.5808\n",
      "Epoch 9/20\n",
      "11610/11610 [==============================] - 0s 34us/sample - loss: 0.5584 - val_loss: 0.5672\n",
      "Epoch 10/20\n",
      "11610/11610 [==============================] - 0s 32us/sample - loss: 0.5444 - val_loss: 0.5559\n",
      "Epoch 11/20\n",
      "11610/11610 [==============================] - 0s 34us/sample - loss: 0.5327 - val_loss: 0.5453\n",
      "Epoch 12/20\n",
      "11610/11610 [==============================] - 0s 37us/sample - loss: 0.5228 - val_loss: 0.5370\n",
      "Epoch 13/20\n",
      "11610/11610 [==============================] - 0s 34us/sample - loss: 0.5140 - val_loss: 0.5295\n",
      "Epoch 14/20\n",
      "11610/11610 [==============================] - 0s 33us/sample - loss: 0.5066 - val_loss: 0.5224\n",
      "Epoch 15/20\n",
      "11610/11610 [==============================] - 0s 32us/sample - loss: 0.4999 - val_loss: 0.5171\n",
      "Epoch 16/20\n",
      "11610/11610 [==============================] - 0s 34us/sample - loss: 0.4941 - val_loss: 0.5139\n",
      "Epoch 17/20\n",
      "11610/11610 [==============================] - 0s 34us/sample - loss: 0.4892 - val_loss: 0.5069\n",
      "Epoch 18/20\n",
      "11610/11610 [==============================] - 0s 34us/sample - loss: 0.4849 - val_loss: 0.5026\n",
      "Epoch 19/20\n",
      "11610/11610 [==============================] - 0s 35us/sample - loss: 0.4806 - val_loss: 0.4985\n",
      "Epoch 20/20\n",
      "11610/11610 [==============================] - 0s 32us/sample - loss: 0.4768 - val_loss: 0.4964\n",
      "5160/5160 [==============================] - 0s 19us/sample - loss: 0.4843\n"
     ]
    }
   ],
   "source": [
    "model.compile(loss = \"mse\", optimizer = keras.optimizers.SGD(learning_rate = 1e-3))\n",
    "\n",
    "X_train_A, X_train_B = X_train[:, :5], X_train[:, 2:]\n",
    "X_valid_A, X_valid_B = X_valid[:, :5], X_valid[:, 2:]\n",
    "X_test_A, X_test_B = X_test[:, :5], X_test[:, 2:]\n",
    "X_new_A, X_new_B = X_test_A[:3], X_test_B[:3]\n",
    "\n",
    "history = model.fit((X_train_A, X_train_B), y_train, epochs = 20,\n",
    "                    validation_data = ((X_valid_A, X_valid_B), y_valid))\n",
    "mse_test = model.evaluate((X_test_A, X_test_B), y_test)\n",
    "y_pred = model.predict((X_new_A, X_new_B))"
   ]
  },
  {
   "cell_type": "markdown",
   "metadata": {},
   "source": [
    "#### 여러 개의 출력이 필요한 경우"
   ]
  },
  {
   "cell_type": "code",
   "execution_count": null,
   "metadata": {},
   "outputs": [],
   "source": [
    "input_A = keras.layers.Input(shape = [5], name = \"wide_input\")\n",
    "input_B = keras.layers.Input(shape = [6], name = \"deep_input\")\n",
    "hidden1 = keras.layers.Dense(30, activation = \"relu\")(input_B)\n",
    "hidden2 = keras.layers.Dense(30, activation = \"relu\")(hidden1)\n",
    "concat = keras.layers.concatenate([input_A, hidden2])\n",
    "output = keras.layers.Dense(1, name = \"main_output\")(concat)\n",
    "aux_output = keras.layers.Dense(1, name = \"aux_output\")(hidden2)\n",
    "model = keras.Model(inputs = [input_A, input_B], outputs = [output, aux_output])\n",
    "\n",
    "model.compile(loss = [\"mse\",\"mse\"], loss_weights = [0.9, 0.1], optimizer = \"sgd\")\n",
    "\n",
    "history = model.fit(\n",
    "    [X_train_A, X_train_B], [y_train, y_train], epochs = 20,\n",
    "    validation_data = ([X_valid_A, X_valid_B], [y_valid, y_valid]))\n",
    "\n",
    "total_loss, main_loss, aux_loss = model.evaluate(\n",
    "    [X_test_A, X_test_B], [y_test, y_test])"
   ]
  },
  {
   "cell_type": "markdown",
   "metadata": {},
   "source": [
    "### subclassing API\n",
    "###   \n",
    "서브클래싱 api를 이용하여 동적모델(dynamic model) 만들기 (imperative programming)"
   ]
  },
  {
   "cell_type": "code",
   "execution_count": null,
   "metadata": {},
   "outputs": [],
   "source": [
    "# 층 구성과 정방향 계산이 생성자 __init__와 call()메서드에 분리되었음\n",
    "# 시퀀셜 api와 함수형 api에서는 한번에 정의 했었음\n",
    "\n",
    "class WideAndDeepModel(keras.Model): \n",
    "    def __init__(self, inits = 30, activation = \"relu\", **kwargs):\n",
    "        super().__init__(**kwargs)\n",
    "        self.hidden1 = keras.layers.Dense(units, activation = activation)\n",
    "        self.hidden2 = keras.layers.Dense(units, activation = activation)\n",
    "        self.main_output = keras.layers.Dense(1)\n",
    "        self.aux_output = keras.layers.Dense(1)\n",
    "    \n",
    "    # 이 메서드 안에서 원하는 어떠한 게산도 사용할 수 있다\n",
    "    def call(self, inputs):\n",
    "        input_A, input_B = inputs\n",
    "        hidden1 = self.hidden1(input_B)\n",
    "        hidden2 = self.hidden2(hidden1)\n",
    "        concat = keras.layers.concatenate([input_A, hidden2])\n",
    "        main_output = self.main_output(concat)\n",
    "        aux_output = self.aux_output(hidden2)\n",
    "        return main_output, aux_output\n",
    "    \n",
    "model = WideAndDeepModel()"
   ]
  },
  {
   "cell_type": "markdown",
   "metadata": {},
   "source": [
    "# Model Save & Restore"
   ]
  },
  {
   "cell_type": "code",
   "execution_count": null,
   "metadata": {},
   "outputs": [],
   "source": [
    "# 모델 저장\n",
    "model = keras.models.Sequential([...])\n",
    "model.compile([...])\n",
    "model.fit([...])\n",
    "model.save(\"my_keras_model.h5\")\n",
    "\n",
    "# 모델 불러오기\n",
    "model = keras.models.load_model(\"my_keras_model.h5\")"
   ]
  },
  {
   "cell_type": "code",
   "execution_count": null,
   "metadata": {},
   "outputs": [],
   "source": [
    "[...] # 모델 만들고 컴파일 하기\n",
    "checkpoint_cb = keras.callbacks.ModelCheckpoint(\"my_keras_model.h5\")\n",
    "history = model.fit(X_train, y_train, epochs = 10, callbacks = [checkpoint_cb])"
   ]
  },
  {
   "cell_type": "code",
   "execution_count": null,
   "metadata": {},
   "outputs": [],
   "source": [
    "# 최상의 검증 세트 점수에서만 모델을 저장하도록 지정하는 방법\n",
    "checkpoint_cb = keras.callbacks.ModelCheckpoint(\"my_keras_model.h5\", save_best_only = True)\n",
    "history = model.fit(X_train, y_train, epochs = 10,\n",
    "                    validation_data = (X_valid, y_valid),\n",
    "                    callbacks = [checkpoint_cb])\n",
    "model = keras.models.load_model(\"my_keras_model.h5\") # 최상의 모델로 복원"
   ]
  },
  {
   "cell_type": "code",
   "execution_count": null,
   "metadata": {},
   "outputs": [],
   "source": [
    "# 조기종료 구현\n",
    "early_stopping_cb = keras.callbacks.EarlyStopping(patience = 10,\n",
    "                                                 restore_best_weights = True)\n",
    "history = model.fit(X_train, y_train, epochs = 100,\n",
    "                    validation_data = (X_valid, y_valid),\n",
    "                    callbacks = [checkpoint_cb, early_stopping_cb])\n",
    "# 체크포인트 저장 콜백과 조기종료 콜백을 함께 사용할 수 있다.\n",
    "# EarlyStopping 콜백이 훈련이 끝난 후 최상의 가중치를 복원하기 때문에 젖아된 모델을 따로 복원할 필요 없음"
   ]
  },
  {
   "cell_type": "markdown",
   "metadata": {},
   "source": [
    "# Visualization with TensorBoard"
   ]
  },
  {
   "cell_type": "code",
   "execution_count": 5,
   "metadata": {},
   "outputs": [],
   "source": [
    "# 텐서보드 로그를 위해 사용할 루트 로그 디렉터리 정의\n",
    "import os\n",
    "root_logdir = os.path.join(os.curdir, \"my_logs\")\n",
    "\n",
    "# 실행할 떄마다 실행 시각을 이름으로 하는 다른 서브디렉터리를 생성하는 함수 정의\n",
    "def get_run_logdir():\n",
    "    import time\n",
    "    run_id = time.strftime(\"run_%Y_%m_%d-%H_%M_%S\")\n",
    "    return os.path.join(root_logdir, run_id)\n",
    "\n",
    "run_logdir = get_run_logdir() # 실행시마다 시각기준 다른이름의 서브디렉터리가 생성된다"
   ]
  },
  {
   "cell_type": "code",
   "execution_count": 7,
   "metadata": {},
   "outputs": [],
   "source": [
    "# 모델구축, 컴파일\n",
    "model = keras.models.Sequential([\n",
    "    keras.layers.Dense(30, activation=\"relu\", input_shape=[8]),\n",
    "    keras.layers.Dense(30, activation=\"relu\"),\n",
    "    keras.layers.Dense(1)\n",
    "])    \n",
    "model.compile(loss=\"mse\", optimizer=keras.optimizers.SGD(lr=1e-3))"
   ]
  },
  {
   "cell_type": "code",
   "execution_count": 8,
   "metadata": {},
   "outputs": [],
   "source": [
    "checkpoint_cb = keras.callbacks.ModelCheckpoint(\"my_keras_model.h5\")"
   ]
  },
  {
   "cell_type": "code",
   "execution_count": 9,
   "metadata": {},
   "outputs": [
    {
     "name": "stdout",
     "output_type": "stream",
     "text": [
      "Train on 11610 samples, validate on 3870 samples\n",
      "Epoch 1/30\n",
      "11610/11610 [==============================] - 2s 174us/sample - loss: 2.6243 - val_loss: 0.8358\n",
      "Epoch 2/30\n",
      "11610/11610 [==============================] - 1s 106us/sample - loss: 0.7447 - val_loss: 0.6983\n",
      "Epoch 3/30\n",
      "11610/11610 [==============================] - 1s 104us/sample - loss: 0.6722 - val_loss: 0.6636\n",
      "Epoch 4/30\n",
      "11610/11610 [==============================] - 1s 104us/sample - loss: 0.6409 - val_loss: 0.6367\n",
      "Epoch 5/30\n",
      "11610/11610 [==============================] - 1s 105us/sample - loss: 0.6153 - val_loss: 0.6129\n",
      "Epoch 6/30\n",
      "11610/11610 [==============================] - 1s 105us/sample - loss: 0.5921 - val_loss: 0.5927\n",
      "Epoch 7/30\n",
      "11610/11610 [==============================] - 1s 102us/sample - loss: 0.5717 - val_loss: 0.5747\n",
      "Epoch 8/30\n",
      "11610/11610 [==============================] - 1s 101us/sample - loss: 0.5532 - val_loss: 0.5569\n",
      "Epoch 9/30\n",
      "11610/11610 [==============================] - 1s 105us/sample - loss: 0.5366 - val_loss: 0.5418\n",
      "Epoch 10/30\n",
      "11610/11610 [==============================] - 1s 112us/sample - loss: 0.5213 - val_loss: 0.5300\n",
      "Epoch 11/30\n",
      "11610/11610 [==============================] - 1s 102us/sample - loss: 0.5093 - val_loss: 0.5182\n",
      "Epoch 12/30\n",
      "11610/11610 [==============================] - 1s 104us/sample - loss: 0.4988 - val_loss: 0.5128\n",
      "Epoch 13/30\n",
      "11610/11610 [==============================] - 1s 101us/sample - loss: 0.4902 - val_loss: 0.5028\n",
      "Epoch 14/30\n",
      "11610/11610 [==============================] - 1s 102us/sample - loss: 0.4835 - val_loss: 0.4976\n",
      "Epoch 15/30\n",
      "11610/11610 [==============================] - 1s 101us/sample - loss: 0.4771 - val_loss: 0.4936\n",
      "Epoch 16/30\n",
      "11610/11610 [==============================] - 1s 104us/sample - loss: 0.4719 - val_loss: 0.4891\n",
      "Epoch 17/30\n",
      "11610/11610 [==============================] - 1s 105us/sample - loss: 0.4673 - val_loss: 0.4834\n",
      "Epoch 18/30\n",
      "11610/11610 [==============================] - 1s 104us/sample - loss: 0.4632 - val_loss: 0.4801\n",
      "Epoch 19/30\n",
      "11610/11610 [==============================] - 1s 106us/sample - loss: 0.4592 - val_loss: 0.4765\n",
      "Epoch 20/30\n",
      "11610/11610 [==============================] - 1s 113us/sample - loss: 0.4559 - val_loss: 0.4738\n",
      "Epoch 21/30\n",
      "11610/11610 [==============================] - 1s 113us/sample - loss: 0.4525 - val_loss: 0.4708\n",
      "Epoch 22/30\n",
      "11610/11610 [==============================] - 1s 105us/sample - loss: 0.4497 - val_loss: 0.4679\n",
      "Epoch 23/30\n",
      "11610/11610 [==============================] - 1s 120us/sample - loss: 0.4469 - val_loss: 0.4653\n",
      "Epoch 24/30\n",
      "11610/11610 [==============================] - 1s 98us/sample - loss: 0.4441 - val_loss: 0.4626\n",
      "Epoch 25/30\n",
      "11610/11610 [==============================] - 1s 111us/sample - loss: 0.4415 - val_loss: 0.4600\n",
      "Epoch 26/30\n",
      "11610/11610 [==============================] - 1s 109us/sample - loss: 0.4389 - val_loss: 0.4596\n",
      "Epoch 27/30\n",
      "11610/11610 [==============================] - 1s 105us/sample - loss: 0.4367 - val_loss: 0.4559\n",
      "Epoch 28/30\n",
      "11610/11610 [==============================] - 1s 121us/sample - loss: 0.4343 - val_loss: 0.4544\n",
      "Epoch 29/30\n",
      "11610/11610 [==============================] - 1s 119us/sample - loss: 0.4321 - val_loss: 0.4510\n",
      "Epoch 30/30\n",
      "11610/11610 [==============================] - 1s 118us/sample - loss: 0.4299 - val_loss: 0.4501\n"
     ]
    }
   ],
   "source": [
    "# 텐서보드 시각화를 위한 콜백객체를 호출 후 모델에 콜백 인자로 전달하여 학습 시작\n",
    "tensorboard_cb = keras.callbacks.TensorBoard(run_logdir)\n",
    "history = model.fit(X_train, y_train, epochs=30,\n",
    "                    validation_data=(X_valid, y_valid),\n",
    "                    callbacks=[checkpoint_cb, tensorboard_cb])"
   ]
  },
  {
   "cell_type": "code",
   "execution_count": 10,
   "metadata": {},
   "outputs": [
    {
     "data": {
      "text/plain": [
       "Reusing TensorBoard on port 6006 (pid 10596), started 0:24:51 ago. (Use '!kill 10596' to kill it.)"
      ]
     },
     "metadata": {},
     "output_type": "display_data"
    },
    {
     "data": {
      "text/html": [
       "\n",
       "      <iframe id=\"tensorboard-frame-5262b1be9e48255c\" width=\"100%\" height=\"800\" frameborder=\"0\">\n",
       "      </iframe>\n",
       "      <script>\n",
       "        (function() {\n",
       "          const frame = document.getElementById(\"tensorboard-frame-5262b1be9e48255c\");\n",
       "          const url = new URL(\"/\", window.location);\n",
       "          url.port = 6006;\n",
       "          frame.src = url;\n",
       "        })();\n",
       "      </script>\n",
       "  "
      ],
      "text/plain": [
       "<IPython.core.display.HTML object>"
      ]
     },
     "metadata": {},
     "output_type": "display_data"
    }
   ],
   "source": [
    "# 주피터 노트북에서 텐서보드 바로 시각화하기\n",
    "%load_ext tensorboard\n",
    "%tensorboard --logdir=./my_logs --port=6006"
   ]
  },
  {
   "cell_type": "markdown",
   "metadata": {},
   "source": [
    "# NN Optimizing \n",
    "####   \n",
    "아래와 같은 신경망의 하이퍼파라미터 튜닝을 고려할 수 있다.\n",
    "* 은닉층 개수\n",
    "* 은닉층의 뉴런 수\n",
    "* 학습률  "
   ]
  },
  {
   "cell_type": "code",
   "execution_count": 12,
   "metadata": {},
   "outputs": [],
   "source": [
    "def build_model(n_hidden=1, n_neurons=30, learning_rate=3e-3, input_shape=[8]):\n",
    "    model = keras.model.Sequential()\n",
    "    model.add(keras.layers.InputLayer(input_shape = input_shape))\n",
    "    for layer in range(n_hidden):\n",
    "        model.add(keras.layers.Dense(n_neurons, activation = \"relu\"))\n",
    "    model.add(keras.layers.Dense(1)) # 출력층\n",
    "    optimizer = keras.optimizers.SGD(lr = learning_rate)\n",
    "    model.compile(loss = \"mse\", optimizer = optimizer)\n",
    "    return model"
   ]
  },
  {
   "cell_type": "code",
   "execution_count": 13,
   "metadata": {},
   "outputs": [],
   "source": [
    "# 사이킷런의 ML모델 튜닝방법을 그대로 사용하기 위해\n",
    "# 케라스 모델을 사이킷런 API형태로 바꾼다. (wrapper로 감싸주기만 하면 됨)\n",
    "keras_reg = keras.wrappers.scikit_learn.KerasRegressor(build_model) "
   ]
  },
  {
   "cell_type": "code",
   "execution_count": null,
   "metadata": {},
   "outputs": [],
   "source": [
    "keras_reg.fit(X_train, y_train, epochs = 100,\n",
    "             validation_data = (X_valid, y_valid),\n",
    "             callbacks = [keras.callbacks.EarlyStopping(patience = 10)])\n",
    "mse_test = keras_reg.score(X_test, y_test)\n",
    "y_pred = keras.reg.predict(X_new)"
   ]
  },
  {
   "cell_type": "code",
   "execution_count": null,
   "metadata": {},
   "outputs": [],
   "source": [
    "from scipy.stats import reciprocal\n",
    "from sklearn.model_selection import RandomizedSearchCV\n",
    "\n",
    "param_distribs = {\n",
    "    \"n_hidden\": [0,1,2,3],\n",
    "    \"n_neurons\": np.arange(1,100),\n",
    "    \"learning_rate\": reciprocal(3e-4, 3e-2)\n",
    "}\n",
    "\n",
    "# 아래와 같이 사이킷런의 랜덤서치cv를 신경망 모델에 적용할 수 있다.\n",
    "rnd_search_cv = RandomizedSearchCV(keras_reg, param_distribs, n_iter=10, cv=3)\n",
    "rnd_search_cv.fit(X_train, y_train, epochs = 100,\n",
    "                 validation_data = (X_valid, y_valid),\n",
    "                 callbacks = [keras.callbacks.EarlyStopping(patience = 10)])"
   ]
  }
 ],
 "metadata": {
  "kernelspec": {
   "display_name": "Python 3",
   "language": "python",
   "name": "python3"
  },
  "language_info": {
   "codemirror_mode": {
    "name": "ipython",
    "version": 3
   },
   "file_extension": ".py",
   "mimetype": "text/x-python",
   "name": "python",
   "nbconvert_exporter": "python",
   "pygments_lexer": "ipython3",
   "version": "3.7.6"
  }
 },
 "nbformat": 4,
 "nbformat_minor": 4
}
