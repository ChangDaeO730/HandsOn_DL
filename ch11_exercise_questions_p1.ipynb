{
 "cells": [
  {
   "cell_type": "code",
   "execution_count": 1,
   "metadata": {},
   "outputs": [],
   "source": [
    "import sys\n",
    "import sklearn\n",
    "import tensorflow as tf\n",
    "from tensorflow import keras\n",
    "\n",
    "%load_ext tensorboard\n",
    "\n",
    "import numpy as np\n",
    "import pandas as pd\n",
    "import os\n",
    "\n",
    "np.random.seed(42)\n",
    "\n",
    "# graphic option tuning\n",
    "%matplotlib inline\n",
    "import matplotlib as mpl\n",
    "import matplotlib.pyplot as plt\n",
    "plt.style.use('seaborn-darkgrid')\n",
    "mpl.rc('axes', labelsize=14)\n",
    "mpl.rc('xtick', labelsize=12)\n",
    "mpl.rc('ytick', labelsize=12)"
   ]
  },
  {
   "cell_type": "markdown",
   "metadata": {},
   "source": [
    "# training DNN in CIFAR10 dataset\n",
    "###   \n",
    "* 60000 color images\n",
    "* 32*32 pixel, 3 channel\n",
    "* 10 class labels\n",
    "###  \n",
    "task : multiclass classification"
   ]
  },
  {
   "cell_type": "markdown",
   "metadata": {},
   "source": [
    "### 1. data load"
   ]
  },
  {
   "cell_type": "code",
   "execution_count": 3,
   "metadata": {},
   "outputs": [],
   "source": [
    "# train : test = 50000 : 10000\n",
    "(X_train_full, y_train_full), (X_test, y_test) = keras.datasets.cifar10.load_data()\n",
    "\n",
    "# train : valid = 45000 : 5000\n",
    "X_train = X_train_full[5000:]\n",
    "y_train = y_train_full[5000:]\n",
    "X_valid = X_train_full[:5000]\n",
    "y_valid = y_train_full[:5000]"
   ]
  },
  {
   "cell_type": "markdown",
   "metadata": {},
   "source": [
    "### 2. model build"
   ]
  },
  {
   "cell_type": "code",
   "execution_count": 5,
   "metadata": {},
   "outputs": [],
   "source": [
    "keras.backend.clear_session()\n",
    "tf.random.set_seed(42)\n",
    "np.random.seed(42)\n",
    "\n",
    "model = keras.models.Sequential()\n",
    "# input define\n",
    "model.add(keras.layers.Flatten(input_shape = [32,32,3]))\n",
    "# 20-hidden-layers have 100 neurons\n",
    "# using ELU activation & He initialization\n",
    "for _ in range(20):\n",
    "    model.add(keras.layers.Dense(100,\n",
    "                                 activation = \"elu\",\n",
    "                                 kernel_initializer = \"he_normal\"))\n",
    "# output layer\n",
    "model.add(keras.layers.Dense(10, activation = \"softmax\"))\n",
    "\n",
    "optimizer = keras.optimizers.Nadam(lr = 5e-5)\n",
    "model.compile(loss = \"sparse_categorical_crossentropy\",\n",
    "              optimizer = optimizer,\n",
    "              metrics = [\"accuracy\"])"
   ]
  },
  {
   "cell_type": "code",
   "execution_count": 7,
   "metadata": {},
   "outputs": [],
   "source": [
    "# callbacks define\n",
    "early_stopping_cb = keras.callbacks.EarlyStopping(patience = 20)\n",
    "model_checkpoint_cb = keras.callbacks.ModelCheckpoint(\"my_cifar10_model.h5\",\n",
    "                                                      save_best_only = True)\n",
    "run_index = 1\n",
    "run_logdir = os.path.join(os.curdir, \"my_cifar10_logs\", \"run_{:03d}\".format(run_index))\n",
    "tensorboard_cb = keras.callbacks.TensorBoard(run_logdir)\n",
    "callbacks = [early_stopping_cb, model_checkpoint_cb, tensorboard_cb]"
   ]
  },
  {
   "cell_type": "code",
   "execution_count": 8,
   "metadata": {},
   "outputs": [
    {
     "data": {
      "text/plain": [
       "ERROR: Timed out waiting for TensorBoard to start. It may still be running as pid 10496."
      ]
     },
     "metadata": {},
     "output_type": "display_data"
    }
   ],
   "source": [
    "%tensorboard --logdir=./my_cifar10_logs --port=6006"
   ]
  },
  {
   "cell_type": "markdown",
   "metadata": {},
   "source": [
    "### 3. model fitting"
   ]
  },
  {
   "cell_type": "code",
   "execution_count": 9,
   "metadata": {},
   "outputs": [
    {
     "name": "stdout",
     "output_type": "stream",
     "text": [
      "Train on 45000 samples, validate on 5000 samples\n",
      "Epoch 1/100\n",
      "45000/45000 [==============================] - 16s 347us/sample - loss: 4.3406 - accuracy: 0.1496 - val_loss: 2.1599 - val_accuracy: 0.2122\n",
      "Epoch 2/100\n",
      "45000/45000 [==============================] - 15s 339us/sample - loss: 2.0637 - accuracy: 0.2351 - val_loss: 1.9966 - val_accuracy: 0.2604\n",
      "Epoch 3/100\n",
      "45000/45000 [==============================] - 14s 317us/sample - loss: 1.9546 - accuracy: 0.2744 - val_loss: 2.0142 - val_accuracy: 0.2626\n",
      "Epoch 4/100\n",
      "45000/45000 [==============================] - 15s 323us/sample - loss: 1.8816 - accuracy: 0.3042 - val_loss: 1.8472 - val_accuracy: 0.3152\n",
      "Epoch 5/100\n",
      "45000/45000 [==============================] - 16s 352us/sample - loss: 1.8237 - accuracy: 0.3319 - val_loss: 1.8066 - val_accuracy: 0.3442\n",
      "Epoch 6/100\n",
      "45000/45000 [==============================] - 17s 386us/sample - loss: 1.7730 - accuracy: 0.3530 - val_loss: 1.7865 - val_accuracy: 0.3480\n",
      "Epoch 7/100\n",
      "45000/45000 [==============================] - 18s 398us/sample - loss: 1.7272 - accuracy: 0.3709 - val_loss: 1.7369 - val_accuracy: 0.3668\n",
      "Epoch 8/100\n",
      "45000/45000 [==============================] - 17s 368us/sample - loss: 1.6881 - accuracy: 0.3875 - val_loss: 1.7363 - val_accuracy: 0.3710\n",
      "Epoch 9/100\n",
      "45000/45000 [==============================] - 16s 345us/sample - loss: 1.6599 - accuracy: 0.3980 - val_loss: 1.6855 - val_accuracy: 0.3938\n",
      "Epoch 10/100\n",
      "45000/45000 [==============================] - 17s 378us/sample - loss: 1.6297 - accuracy: 0.4104 - val_loss: 1.6532 - val_accuracy: 0.3960\n",
      "Epoch 11/100\n",
      "45000/45000 [==============================] - 18s 389us/sample - loss: 1.6041 - accuracy: 0.4194 - val_loss: 1.6228 - val_accuracy: 0.4156\n",
      "Epoch 12/100\n",
      "45000/45000 [==============================] - 17s 377us/sample - loss: 1.5817 - accuracy: 0.4305 - val_loss: 1.6402 - val_accuracy: 0.4082\n",
      "Epoch 13/100\n",
      "45000/45000 [==============================] - 17s 371us/sample - loss: 1.5603 - accuracy: 0.4381 - val_loss: 1.5919 - val_accuracy: 0.4266\n",
      "Epoch 14/100\n",
      "45000/45000 [==============================] - 17s 372us/sample - loss: 1.5425 - accuracy: 0.4433 - val_loss: 1.6144 - val_accuracy: 0.4202\n",
      "Epoch 15/100\n",
      "45000/45000 [==============================] - 16s 361us/sample - loss: 1.5257 - accuracy: 0.4487 - val_loss: 1.6073 - val_accuracy: 0.4154\n",
      "Epoch 16/100\n",
      "45000/45000 [==============================] - 16s 367us/sample - loss: 1.5088 - accuracy: 0.4550 - val_loss: 1.5863 - val_accuracy: 0.4320\n",
      "Epoch 17/100\n",
      "45000/45000 [==============================] - 16s 363us/sample - loss: 1.4922 - accuracy: 0.4613 - val_loss: 1.6696 - val_accuracy: 0.4104\n",
      "Epoch 18/100\n",
      "45000/45000 [==============================] - 16s 364us/sample - loss: 1.4816 - accuracy: 0.4660 - val_loss: 1.5354 - val_accuracy: 0.4556\n",
      "Epoch 19/100\n",
      "45000/45000 [==============================] - 16s 364us/sample - loss: 1.4669 - accuracy: 0.4718 - val_loss: 1.5878 - val_accuracy: 0.4344\n",
      "Epoch 20/100\n",
      "45000/45000 [==============================] - 16s 365us/sample - loss: 1.4537 - accuracy: 0.4764 - val_loss: 1.5691 - val_accuracy: 0.4428\n",
      "Epoch 21/100\n",
      "45000/45000 [==============================] - 16s 366us/sample - loss: 1.4423 - accuracy: 0.4818 - val_loss: 1.5568 - val_accuracy: 0.4482\n",
      "Epoch 22/100\n",
      "45000/45000 [==============================] - 16s 362us/sample - loss: 1.4264 - accuracy: 0.4889 - val_loss: 1.5728 - val_accuracy: 0.4402\n",
      "Epoch 23/100\n",
      "45000/45000 [==============================] - 16s 364us/sample - loss: 1.4168 - accuracy: 0.4919 - val_loss: 1.5449 - val_accuracy: 0.4476\n",
      "Epoch 24/100\n",
      "45000/45000 [==============================] - 17s 380us/sample - loss: 1.4053 - accuracy: 0.4946 - val_loss: 1.5181 - val_accuracy: 0.4634\n",
      "Epoch 25/100\n",
      "45000/45000 [==============================] - 17s 388us/sample - loss: 1.3944 - accuracy: 0.4985 - val_loss: 1.5428 - val_accuracy: 0.4510\n",
      "Epoch 26/100\n",
      "45000/45000 [==============================] - 21s 470us/sample - loss: 1.3837 - accuracy: 0.5037 - val_loss: 1.5209 - val_accuracy: 0.4632\n",
      "Epoch 27/100\n",
      "45000/45000 [==============================] - 22s 479us/sample - loss: 1.3714 - accuracy: 0.5075 - val_loss: 1.5325 - val_accuracy: 0.4612\n",
      "Epoch 28/100\n",
      "45000/45000 [==============================] - 22s 494us/sample - loss: 1.3637 - accuracy: 0.5094 - val_loss: 1.5251 - val_accuracy: 0.4644\n",
      "Epoch 29/100\n",
      "45000/45000 [==============================] - 23s 512us/sample - loss: 1.3520 - accuracy: 0.5123 - val_loss: 1.5255 - val_accuracy: 0.4660\n",
      "Epoch 30/100\n",
      "45000/45000 [==============================] - 25s 554us/sample - loss: 1.3424 - accuracy: 0.5174 - val_loss: 1.5247 - val_accuracy: 0.4658\n",
      "Epoch 31/100\n",
      "45000/45000 [==============================] - 23s 518us/sample - loss: 1.3294 - accuracy: 0.5227 - val_loss: 1.5284 - val_accuracy: 0.4614\n",
      "Epoch 32/100\n",
      "45000/45000 [==============================] - 24s 526us/sample - loss: 1.3254 - accuracy: 0.5243 - val_loss: 1.5653 - val_accuracy: 0.4448\n",
      "Epoch 33/100\n",
      "45000/45000 [==============================] - 23s 519us/sample - loss: 1.3136 - accuracy: 0.5275 - val_loss: 1.5139 - val_accuracy: 0.4704\n",
      "Epoch 34/100\n",
      "45000/45000 [==============================] - 24s 533us/sample - loss: 1.3023 - accuracy: 0.5315 - val_loss: 1.5523 - val_accuracy: 0.4590\n",
      "Epoch 35/100\n",
      "45000/45000 [==============================] - 23s 520us/sample - loss: 1.2968 - accuracy: 0.5337 - val_loss: 1.5198 - val_accuracy: 0.4700\n",
      "Epoch 36/100\n",
      "45000/45000 [==============================] - 22s 499us/sample - loss: 1.2841 - accuracy: 0.5394 - val_loss: 1.4964 - val_accuracy: 0.4772\n",
      "Epoch 37/100\n",
      "45000/45000 [==============================] - 29s 642us/sample - loss: 1.2787 - accuracy: 0.5400 - val_loss: 1.4996 - val_accuracy: 0.4746\n",
      "Epoch 38/100\n",
      "45000/45000 [==============================] - 26s 578us/sample - loss: 1.2674 - accuracy: 0.5456 - val_loss: 1.5196 - val_accuracy: 0.4786\n",
      "Epoch 39/100\n",
      "45000/45000 [==============================] - 23s 501us/sample - loss: 1.2600 - accuracy: 0.5471 - val_loss: 1.5407 - val_accuracy: 0.4648\n",
      "Epoch 40/100\n",
      "45000/45000 [==============================] - 24s 537us/sample - loss: 1.2544 - accuracy: 0.5497 - val_loss: 1.5292 - val_accuracy: 0.4666\n",
      "Epoch 41/100\n",
      "45000/45000 [==============================] - 24s 526us/sample - loss: 1.2447 - accuracy: 0.5520 - val_loss: 1.4969 - val_accuracy: 0.4830\n",
      "Epoch 42/100\n",
      "45000/45000 [==============================] - 23s 504us/sample - loss: 1.2360 - accuracy: 0.5556 - val_loss: 1.5038 - val_accuracy: 0.4778\n",
      "Epoch 43/100\n",
      "45000/45000 [==============================] - 23s 522us/sample - loss: 1.2280 - accuracy: 0.5597 - val_loss: 1.5061 - val_accuracy: 0.4822\n",
      "Epoch 44/100\n",
      "45000/45000 [==============================] - 23s 520us/sample - loss: 1.2189 - accuracy: 0.5647 - val_loss: 1.5137 - val_accuracy: 0.4778\n",
      "Epoch 45/100\n",
      "45000/45000 [==============================] - 25s 545us/sample - loss: 1.2090 - accuracy: 0.5676 - val_loss: 1.5381 - val_accuracy: 0.4676\n",
      "Epoch 46/100\n",
      "45000/45000 [==============================] - 24s 533us/sample - loss: 1.2051 - accuracy: 0.5660 - val_loss: 1.5041 - val_accuracy: 0.4830\n",
      "Epoch 47/100\n",
      "45000/45000 [==============================] - 24s 538us/sample - loss: 1.1969 - accuracy: 0.5708 - val_loss: 1.5353 - val_accuracy: 0.4766\n",
      "Epoch 48/100\n",
      "45000/45000 [==============================] - 23s 517us/sample - loss: 1.1866 - accuracy: 0.5757 - val_loss: 1.5695 - val_accuracy: 0.4640\n",
      "Epoch 49/100\n",
      "45000/45000 [==============================] - 23s 502us/sample - loss: 1.1762 - accuracy: 0.5788 - val_loss: 1.5448 - val_accuracy: 0.4716\n",
      "Epoch 50/100\n",
      "45000/45000 [==============================] - 23s 520us/sample - loss: 1.1734 - accuracy: 0.5805 - val_loss: 1.5842 - val_accuracy: 0.4636\n",
      "Epoch 51/100\n",
      "45000/45000 [==============================] - 23s 517us/sample - loss: 1.1654 - accuracy: 0.5831 - val_loss: 1.5413 - val_accuracy: 0.4774\n",
      "Epoch 52/100\n",
      "45000/45000 [==============================] - 24s 533us/sample - loss: 1.1567 - accuracy: 0.5845 - val_loss: 1.5535 - val_accuracy: 0.4730\n",
      "Epoch 53/100\n",
      "45000/45000 [==============================] - 24s 542us/sample - loss: 1.1526 - accuracy: 0.5852 - val_loss: 1.5795 - val_accuracy: 0.4666\n",
      "Epoch 54/100\n"
     ]
    },
    {
     "name": "stdout",
     "output_type": "stream",
     "text": [
      "45000/45000 [==============================] - 21s 465us/sample - loss: 1.1457 - accuracy: 0.5904 - val_loss: 1.5596 - val_accuracy: 0.4792\n",
      "Epoch 55/100\n",
      "45000/45000 [==============================] - 21s 460us/sample - loss: 1.1378 - accuracy: 0.5930 - val_loss: 1.6062 - val_accuracy: 0.4638\n",
      "Epoch 56/100\n",
      "45000/45000 [==============================] - 21s 464us/sample - loss: 1.1306 - accuracy: 0.5945 - val_loss: 1.5691 - val_accuracy: 0.4750\n"
     ]
    },
    {
     "data": {
      "text/plain": [
       "<tensorflow.python.keras.callbacks.History at 0x23e56722e08>"
      ]
     },
     "execution_count": 9,
     "metadata": {},
     "output_type": "execute_result"
    }
   ],
   "source": [
    "model.fit(X_train, y_train, epochs = 100,\n",
    "          validation_data = (X_valid, y_valid),\n",
    "          callbacks = callbacks)"
   ]
  },
  {
   "cell_type": "markdown",
   "metadata": {},
   "source": [
    "![learning_curve](https://github.com/ChangDaeO730/IMAGE_LINK_reposit/blob/main/execution_result/learning_curve.png)"
   ]
  },
  {
   "cell_type": "markdown",
   "metadata": {},
   "source": [
    "#### evaluating "
   ]
  },
  {
   "cell_type": "code",
   "execution_count": 16,
   "metadata": {},
   "outputs": [
    {
     "name": "stdout",
     "output_type": "stream",
     "text": [
      "5000/5000 [==============================] - 0s 81us/sample - loss: 1.5691 - accuracy: 0.4750\n"
     ]
    },
    {
     "data": {
      "text/plain": [
       "[1.5690993909835815, 0.475]"
      ]
     },
     "execution_count": 16,
     "metadata": {},
     "output_type": "execute_result"
    }
   ],
   "source": [
    "model.evaluate(X_valid, y_valid)"
   ]
  },
  {
   "cell_type": "code",
   "execution_count": 17,
   "metadata": {},
   "outputs": [
    {
     "name": "stdout",
     "output_type": "stream",
     "text": [
      "5000/5000 [==============================] - 1s 124us/sample - loss: 1.4964 - accuracy: 0.4772\n"
     ]
    }
   ],
   "source": [
    "# best model for validation set\n",
    "keras.models.load_model(\"my_cifar10_model.h5\").evaluate(X_valid, y_valid)\n",
    "\n",
    "model = keras.models.load_model(\"my_cifar10_model.h5\")"
   ]
  }
 ],
 "metadata": {
  "kernelspec": {
   "display_name": "Python 3",
   "language": "python",
   "name": "python3"
  },
  "language_info": {
   "codemirror_mode": {
    "name": "ipython",
    "version": 3
   },
   "file_extension": ".py",
   "mimetype": "text/x-python",
   "name": "python",
   "nbconvert_exporter": "python",
   "pygments_lexer": "ipython3",
   "version": "3.7.7"
  }
 },
 "nbformat": 4,
 "nbformat_minor": 4
}
